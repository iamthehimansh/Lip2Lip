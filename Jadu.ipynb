{
  "cells": [
    {
      "cell_type": "markdown",
      "metadata": {},
      "source": [
        "## Prepare App"
      ]
    },
    {
      "cell_type": "code",
      "execution_count": null,
      "metadata": {},
      "outputs": [],
      "source": [
        "# @title Prepare App\n",
        "import locale\n",
        "locale.getpreferredencoding = lambda: \"UTF-8\"\n",
        "\n",
        "!pip install TTS\n",
        "# !pip install git+https://github.com/openai/whisper.git\n",
        "# !pip install jiwer\n",
        "# !pip install googletrans==4.0.0-rc1\n",
        "# @title Dependencies\n",
        "%cd /content/\n",
        "!git clone https://github.com/iamthehimansh/Lip2Lip.git \n",
        "%mv /content/Lip2Lip/* /content/"
      ]
    },
    {
      "cell_type": "code",
      "execution_count": null,
      "metadata": {},
      "outputs": [],
      "source": [
        "# @title Prepare for Low Quality\n",
        "%cd /content/\n",
        "\n",
        "!git clone https://github.com/justinjohn0306/Wav2Lip\n",
        "!cd Wav2Lip && pip install -r requirements_colab.txt\n",
        "\n",
        "%cd /content/Wav2Lip\n",
        "\n",
        "# !wget \"https://www.adrianbulat.com/downloads/python-fan/s3fd-619a316812.pth\" -O \"face_detection/detection/sfd/s3fd.pth\"\n",
        "# !wget 'https://github.com/justinjohn0306/Wav2Lip/releases/download/models/wav2lip.pth' -O 'checkpoints/wav2lip.pth'\n",
        "!wget 'https://github.com/justinjohn0306/Wav2Lip/releases/download/models/wav2lip_gan.pth' -O 'checkpoints/wav2lip_gan.pth'\n",
        "# !wget 'https://github.com/justinjohn0306/Wav2Lip/releases/download/models/resnet50.pth' -O 'checkpoints/resnet50.pth'\n",
        "!wget 'https://github.com/justinjohn0306/Wav2Lip/releases/download/models/mobilenet.pth' -O 'checkpoints/mobilenet.pth'\n",
        "\n",
        "!pip install batch-face\n"
      ]
    },
    {
      "cell_type": "code",
      "execution_count": null,
      "metadata": {},
      "outputs": [],
      "source": [
        "# @title Prepare for High Quality\n",
        "%cd /content/\n",
        "\n",
        "!git clone https://github.com/vinthony/video-retalking.git &> /dev/null\n",
        "\n",
        "!sudo apt-get install -y libblas-dev liblapack-dev libx11-dev libopenblas-dev\n",
        "\n",
        "!git clone https://github.com/davisking/dlib.git\n",
        "\n",
        "!pip install basicsr==1.4.2 face-alignment==1.3.4 kornia==0.5.1 ninja==1.10.2.3 einops==0.4.1 facexlib==0.2.5 librosa==0.9.2 build\n",
        "\n",
        "!cd dlib && python setup.py install\n",
        "\n",
        "%cd /content/video-retalking\n",
        "\n",
        "!mkdir ./checkpoints\n",
        "!wget https://github.com/vinthony/video-retalking/releases/download/v0.0.1/30_net_gen.pth -O ./checkpoints/30_net_gen.pth\n",
        "!wget https://github.com/vinthony/video-retalking/releases/download/v0.0.1/BFM.zip -O ./checkpoints/BFM.zip\n",
        "!wget https://github.com/vinthony/video-retalking/releases/download/v0.0.1/DNet.pt -O ./checkpoints/DNet.pt\n",
        "!wget https://github.com/vinthony/video-retalking/releases/download/v0.0.1/ENet.pth -O ./checkpoints/ENet.pth\n",
        "!wget https://github.com/vinthony/video-retalking/releases/download/v0.0.1/expression.mat -O ./checkpoints/expression.mat\n",
        "!wget https://github.com/vinthony/video-retalking/releases/download/v0.0.1/face3d_pretrain_epoch_20.pth -O ./checkpoints/face3d_pretrain_epoch_20.pth\n",
        "!wget https://github.com/vinthony/video-retalking/releases/download/v0.0.1/GFPGANv1.3.pth -O ./checkpoints/GFPGANv1.3.pth\n",
        "!wget https://github.com/vinthony/video-retalking/releases/download/v0.0.1/GPEN-BFR-512.pth -O ./checkpoints/GPEN-BFR-512.pth\n",
        "!wget https://github.com/vinthony/video-retalking/releases/download/v0.0.1/LNet.pth -O ./checkpoints/LNet.pth\n",
        "!wget https://github.com/vinthony/video-retalking/releases/download/v0.0.1/ParseNet-latest.pth -O ./checkpoints/ParseNet-latest.pth\n",
        "!wget https://github.com/vinthony/video-retalking/releases/download/v0.0.1/RetinaFace-R50.pth -O ./checkpoints/RetinaFace-R50.pth\n",
        "!wget https://github.com/vinthony/video-retalking/releases/download/v0.0.1/shape_predictor_68_face_landmarks.dat -O ./checkpoints/shape_predictor_68_face_landmarks.dat\n",
        "!unzip -d ./checkpoints/BFM ./checkpoints/BFM.zip\n",
        "%cd /content/\n",
        "\n",
        "!git clone https://github.com/vinthony/video-retalking.git &> /dev/null\n",
        "!pip install torchvision==0.15.2"
      ]
    },
    {
      "cell_type": "markdown",
      "metadata": {},
      "source": [
        "## Main App"
      ]
    },
    {
      "cell_type": "code",
      "execution_count": null,
      "metadata": {},
      "outputs": [],
      "source": [
        "# @title Main App show video once\n",
        "%cd /content/\n",
        "# %mkdir templates\n",
        "!python \"maingc.py\"\n",
        "# on /vid  show video and tthen if you reload it will be gone"
      ]
    },
    {
      "cell_type": "code",
      "execution_count": null,
      "metadata": {},
      "outputs": [],
      "source": [
        "# @title Main App show video alwase\n",
        "%cd /content/\n",
        "# %mkdir templates\n",
        "!python \"maingc_alwase_show_vid.py\"\n",
        "# on /vid alwase show video last genrated video if avilable"
      ]
    },
    {
      "cell_type": "code",
      "execution_count": null,
      "metadata": {},
      "outputs": [],
      "source": [
        "# @title manual low quality\n",
        "%cd /content/\n",
        "!python inference.py --checkpoint_path 'checkpoints/wav2lip_gan.pth' --face /content/uploads/VID-20240601-WA0039.mp4 --audio '/content/output_synth_audio_final.wav' --pads 0 15 0 0 --resize_factor 1 --nosmooth --outfile '/content/output_high_qual_hi.mp4"
      ]
    }
  ],
  "metadata": {
    "accelerator": "GPU",
    "colab": {
      "collapsed_sections": [
        "LaN9kFg9Oa-r"
      ],
      "gpuType": "T4",
      "provenance": []
    },
    "kernelspec": {
      "display_name": "Python 3",
      "name": "python3"
    },
    "language_info": {
      "name": "python"
    }
  },
  "nbformat": 4,
  "nbformat_minor": 0
}
